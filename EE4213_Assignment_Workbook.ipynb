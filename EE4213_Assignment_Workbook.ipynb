{
  "cells": [
    {
      "cell_type": "markdown",
      "id": "e8822937",
      "metadata": {
        "papermill": {
          "duration": 0.033966,
          "end_time": "2022-04-17T03:48:41.207680",
          "exception": false,
          "start_time": "2022-04-17T03:48:41.173714",
          "status": "completed"
        },
        "tags": [],
        "id": "e8822937"
      },
      "source": [
        "\n",
        "# <h1 style='background:#F08080; border:2; border-radius: 10px; font-size:250%; font-weight: bold; color:black'><center>HEART FAILURE PREDICTION</center></h1> \n",
        " \n",
        "<center><img src = \"https://d112y698adiu2z.cloudfront.net/photos/production/software_photos/001/731/418/datas/original.jpg\" width = 150 height = 150/></center>\n",
        "\n",
        "Cardiovascular diseases (CVDs) are the number major cause of death globally, taking an estimated 17.9 million lives each year, which accounts for 31% of all deaths worlwide.\n",
        "\n",
        "Heart failure is a common event caused by CVDs and this dataset contains 12 features that can be used to predict mortality by heart failure.\n",
        "\n",
        "Most cardiovascular diseases can be prevented by addressing behavioural risk factors such as tobacco use, unhealthy diet and obesity, physical inactivity and harmful use of alcohol using population-wide strategies.\n",
        "\n",
        "People with cardiovascular disease or who are at high cardiovascular risk (due to the presence of one or more risk factors such as hypertension, diabetes, hyperlipidaemia or already established disease) need early detection and management wherein a machine learning model can be of great help. \n",
        "\n",
        "You are assinged to build a model using neural networks for early detection and management of cardiovascular diseases.\n"
      ]
    },
    {
      "cell_type": "markdown",
      "source": [
        "<h1 style='background:#F08080; border:2; border-radius: 10px; color:black'><center>Import Dependancies</center></h1>\n",
        "\n",
        "*   Import dependancies for performing linear algebra,data processing and data visualization."
      ],
      "metadata": {
        "id": "IdhN4JLnjA4P"
      },
      "id": "IdhN4JLnjA4P"
    },
    {
      "cell_type": "code",
      "source": [
        "# 1. import dependancies\n"
      ],
      "metadata": {
        "id": "6_uZujxwlXka"
      },
      "id": "6_uZujxwlXka",
      "execution_count": 2,
      "outputs": []
    },
    {
      "cell_type": "markdown",
      "source": [
        "<h1 style='background:#F08080; border:2; border-radius: 10px; color:black'><center>Loading Data</center></h1>\n",
        "\n",
        "*   Load the csv file, heart_failure_clinical_records_dataset.csv which contains data\n",
        "\n",
        "<div style=\"border-radius:10px;\n",
        "            border : black solid;\n",
        "            background-color: \t#FFFFF0;\n",
        "            font-size:110%;\n",
        "            text-align: left\">\n",
        "\n",
        "<h2 style='; border:0; border-radius: 10px; font-weight: bold; color:black'><center>About the data (Description of attributes)</center></h2>  \n",
        "    \n",
        "* **age:** Age of the patient \n",
        "* **anaemia:** Haemoglobin level of patient (Boolean) \n",
        "* **creatinine_phosphokinase:** Level of the CPK enzyme in the blood (mcg/L)\n",
        "* **diabetes:** If the patient has diabetes (Boolean)\n",
        "* **ejection_fraction:** Percentage of blood leaving the heart at each contraction\n",
        "* **high_blood_pressure:** If the patient has hypertension (Boolean) \n",
        "* **platelets:** Platelet count of blood (kiloplatelets/mL)\n",
        "* **serum_creatinine:** Level of serum creatinine in the blood (mg/dL)\n",
        "* **serum_sodium:** Level of serum sodium in the blood (mEq/L)\n",
        "* **sex:** Sex of the patient\n",
        "* **smoking:** If the patient smokes or not (Boolean) \n",
        "* **time:** Follow-up period (days) \n",
        "* **DEATH_EVENT:** If the patient deceased during the follow-up period (Boolean)\n",
        "\n",
        "**[Attributes having Boolean values:** 0 = Negative (No); 1 = Positive (Yes)]"
      ],
      "metadata": {
        "id": "zlwdLLailSH6"
      },
      "id": "zlwdLLailSH6"
    },
    {
      "cell_type": "code",
      "source": [
        "# 2. loading data\n"
      ],
      "metadata": {
        "id": "yAgwtcopemSy"
      },
      "id": "yAgwtcopemSy",
      "execution_count": 3,
      "outputs": []
    },
    {
      "cell_type": "markdown",
      "id": "e2286e95",
      "metadata": {
        "papermill": {
          "duration": 0.033414,
          "end_time": "2022-04-17T03:48:48.673068",
          "exception": false,
          "start_time": "2022-04-17T03:48:48.639654",
          "status": "completed"
        },
        "tags": [],
        "id": "e2286e95"
      },
      "source": [
        "<h1 style='background:#F08080; border:0; border-radius: 10px; color:black'><center>Analyzing Data</center></h1>\n",
        "\n",
        "*   Display first five rows of dataset\n",
        "*   Describe the dataset doing Univariate Analysis for statistical description and understanding of dispersion of data\n",
        "*   Print information about the DataFrame including the number of columns, column labels, column data types, memory usage, range index, and the number of cells in each column (non-null values)\n"
      ]
    },
    {
      "cell_type": "code",
      "execution_count": 4,
      "id": "019f6dd1",
      "metadata": {
        "execution": {
          "iopub.execute_input": "2022-04-17T03:48:48.744081Z",
          "iopub.status.busy": "2022-04-17T03:48:48.743463Z",
          "iopub.status.idle": "2022-04-17T03:48:48.783219Z",
          "shell.execute_reply": "2022-04-17T03:48:48.782629Z"
        },
        "papermill": {
          "duration": 0.077481,
          "end_time": "2022-04-17T03:48:48.785931",
          "exception": false,
          "start_time": "2022-04-17T03:48:48.708450",
          "status": "completed"
        },
        "tags": [],
        "id": "019f6dd1"
      },
      "outputs": [],
      "source": [
        "# 3. display first five rows of dataset\n"
      ]
    },
    {
      "cell_type": "code",
      "source": [
        "# 4. describe the dataset doing Univariate Analysis for statistical description\n"
      ],
      "metadata": {
        "id": "Thmi-tMEtUZ9"
      },
      "id": "Thmi-tMEtUZ9",
      "execution_count": 5,
      "outputs": []
    },
    {
      "cell_type": "code",
      "source": [
        "# 5. print information about the DataFrame\n"
      ],
      "metadata": {
        "id": "Ns26FVmhxOsS"
      },
      "id": "Ns26FVmhxOsS",
      "execution_count": 6,
      "outputs": []
    },
    {
      "cell_type": "markdown",
      "id": "3e6630dd",
      "metadata": {
        "papermill": {
          "duration": 0.034217,
          "end_time": "2022-04-17T03:48:48.924199",
          "exception": false,
          "start_time": "2022-04-17T03:48:48.889982",
          "status": "completed"
        },
        "tags": [],
        "id": "3e6630dd"
      },
      "source": [
        "<h1 style='background:#F08080; border:0; border-radius: 10px; color:black'><center>Data Preprocessing</center></h1>\n",
        "\n",
        "*   Handle missing values if there any\n",
        "*   Defining independent and dependent attributes ( features and targets)\n",
        "*   Setting up a standard scaler for the feattaures and analyzing it thereafter\n",
        "*   Split variables into training and test sets such that when you execute your code the result would be the same eachtime. Allocat 70% of data into training set."
      ]
    },
    {
      "cell_type": "code",
      "source": [
        "# 6. handle missing values\n"
      ],
      "metadata": {
        "id": "QjnRZEzgt2O-"
      },
      "id": "QjnRZEzgt2O-",
      "execution_count": 7,
      "outputs": []
    },
    {
      "cell_type": "code",
      "execution_count": 8,
      "id": "4bd7cae2",
      "metadata": {
        "execution": {
          "iopub.execute_input": "2022-04-17T03:48:56.031244Z",
          "iopub.status.busy": "2022-04-17T03:48:56.030972Z",
          "iopub.status.idle": "2022-04-17T03:48:56.036289Z",
          "shell.execute_reply": "2022-04-17T03:48:56.035588Z"
        },
        "papermill": {
          "duration": 0.063467,
          "end_time": "2022-04-17T03:48:56.038262",
          "exception": false,
          "start_time": "2022-04-17T03:48:55.974795",
          "status": "completed"
        },
        "tags": [],
        "id": "4bd7cae2"
      },
      "outputs": [],
      "source": [
        "# 7. defining independent and dependent attributes in training and test sets\n"
      ]
    },
    {
      "cell_type": "code",
      "execution_count": 9,
      "id": "7992768f",
      "metadata": {
        "execution": {
          "iopub.execute_input": "2022-04-17T03:48:56.149526Z",
          "iopub.status.busy": "2022-04-17T03:48:56.149097Z",
          "iopub.status.idle": "2022-04-17T03:48:56.198158Z",
          "shell.execute_reply": "2022-04-17T03:48:56.197554Z"
        },
        "papermill": {
          "duration": 0.106669,
          "end_time": "2022-04-17T03:48:56.200004",
          "exception": false,
          "start_time": "2022-04-17T03:48:56.093335",
          "status": "completed"
        },
        "tags": [],
        "id": "7992768f"
      },
      "outputs": [],
      "source": [
        "# 8. setting up a standard scaler for the features and analyzing it thereafter\n"
      ]
    },
    {
      "cell_type": "code",
      "execution_count": 10,
      "id": "1002c9c0",
      "metadata": {
        "execution": {
          "iopub.execute_input": "2022-04-17T03:48:56.758106Z",
          "iopub.status.busy": "2022-04-17T03:48:56.757822Z",
          "iopub.status.idle": "2022-04-17T03:48:56.764050Z",
          "shell.execute_reply": "2022-04-17T03:48:56.763233Z"
        },
        "papermill": {
          "duration": 0.066126,
          "end_time": "2022-04-17T03:48:56.765864",
          "exception": false,
          "start_time": "2022-04-17T03:48:56.699738",
          "status": "completed"
        },
        "tags": [],
        "id": "1002c9c0"
      },
      "outputs": [],
      "source": [
        "# 9. spliting variables into training and test sets\n"
      ]
    },
    {
      "cell_type": "markdown",
      "id": "c8fa4002",
      "metadata": {
        "papermill": {
          "duration": 0.058218,
          "end_time": "2022-04-17T03:48:57.694463",
          "exception": false,
          "start_time": "2022-04-17T03:48:57.636245",
          "status": "completed"
        },
        "tags": [],
        "id": "c8fa4002"
      },
      "source": [
        "<h1 style='background:#F08080; border:0; border-radius: 10px; color:black'><center>Identify Problem Type</center></h1>\n",
        "\n",
        "*   Explain which type of problem type is this?"
      ]
    },
    {
      "cell_type": "markdown",
      "source": [
        "**`# 10. TYPE YOUR ANSWER HERE`**\n",
        "\n",
        "> Indented block\n",
        "\n"
      ],
      "metadata": {
        "id": "R2JC_eAmr7SY"
      },
      "id": "R2JC_eAmr7SY"
    },
    {
      "cell_type": "markdown",
      "source": [
        "<h1 style='background:#F08080; border:0; border-radius: 10px; color:black'><center>Model Building</center></h1>\n",
        "\n",
        "*   Initialize the neural network\n",
        "*   Add input layer and define input dimentions\n",
        "*   Add two hidden layers and define suitable activation functions for each\n",
        "*   Add output layer and define suitable activation function and define number of neurons correctly\n",
        "*   Model should not be overfit"
      ],
      "metadata": {
        "id": "Oem-pNn2sD3H"
      },
      "id": "Oem-pNn2sD3H"
    },
    {
      "cell_type": "code",
      "execution_count": 11,
      "id": "2227717d",
      "metadata": {
        "execution": {
          "iopub.execute_input": "2022-04-17T03:48:57.814464Z",
          "iopub.status.busy": "2022-04-17T03:48:57.813769Z",
          "iopub.status.idle": "2022-04-17T03:49:03.766098Z",
          "shell.execute_reply": "2022-04-17T03:49:03.765356Z"
        },
        "papermill": {
          "duration": 6.016112,
          "end_time": "2022-04-17T03:49:03.769111",
          "exception": false,
          "start_time": "2022-04-17T03:48:57.752999",
          "status": "completed"
        },
        "tags": [],
        "id": "2227717d"
      },
      "outputs": [],
      "source": [
        "# 11. Initialising the NN\n",
        "\n",
        "# 12. layers\n"
      ]
    },
    {
      "cell_type": "markdown",
      "source": [
        "<h1 style='background:#F08080; border:0; border-radius: 10px; color:black'><center>Compile the Model</center></h1>\n",
        "\n",
        "*   Compile the model with adam optimizer\n",
        "*   Choose correct loss function baesd on problem type\n",
        "*   Define performance metrics baesd on problem type"
      ],
      "metadata": {
        "id": "P11KfT2etfMk"
      },
      "id": "P11KfT2etfMk"
    },
    {
      "cell_type": "code",
      "source": [
        "# 13. Compiling the ANN\n"
      ],
      "metadata": {
        "id": "7KFzJRaBto5f"
      },
      "id": "7KFzJRaBto5f",
      "execution_count": 12,
      "outputs": []
    },
    {
      "cell_type": "markdown",
      "source": [
        "<h1 style='background:#F08080; border:0; border-radius: 10px; color:black'><center>Train the Model</center></h1>\n",
        "\n",
        "*   Choose batch size as 25\n",
        "*   Choose epochs to 80\n",
        "*   Use 25% of training data as validation data"
      ],
      "metadata": {
        "id": "UDq2SSSy73Hg"
      },
      "id": "UDq2SSSy73Hg"
    },
    {
      "cell_type": "code",
      "source": [
        "# 14. Train the ANN\n"
      ],
      "metadata": {
        "id": "WLAFOxCL7_Lc"
      },
      "id": "WLAFOxCL7_Lc",
      "execution_count": 13,
      "outputs": []
    },
    {
      "cell_type": "markdown",
      "source": [
        "<h1 style='background:#F08080; border:0; border-radius: 10px; color:black'><center>Model Evaluation</center></h1>\n",
        "\n",
        "*   Print the validation accuracy\n",
        "*   Plot training and validation losses in the same plot\n",
        "*   Plot metrics performance on both training and validation in the same plot\n",
        "*   Predict the results for the test set\n",
        "*   Evaluate results (Hint: Use metrices based on problem type)"
      ],
      "metadata": {
        "id": "TM2BWUwL9GVF"
      },
      "id": "TM2BWUwL9GVF"
    },
    {
      "cell_type": "code",
      "execution_count": 14,
      "id": "69a669c7",
      "metadata": {
        "execution": {
          "iopub.execute_input": "2022-04-17T03:49:04.006979Z",
          "iopub.status.busy": "2022-04-17T03:49:04.006410Z",
          "iopub.status.idle": "2022-04-17T03:49:04.012208Z",
          "shell.execute_reply": "2022-04-17T03:49:04.011277Z"
        },
        "papermill": {
          "duration": 0.128842,
          "end_time": "2022-04-17T03:49:04.015480",
          "exception": false,
          "start_time": "2022-04-17T03:49:03.886638",
          "status": "completed"
        },
        "tags": [],
        "id": "69a669c7"
      },
      "outputs": [],
      "source": [
        "# 15. validation accuracy\n"
      ]
    },
    {
      "cell_type": "code",
      "execution_count": 15,
      "id": "3117df84",
      "metadata": {
        "execution": {
          "iopub.execute_input": "2022-04-17T03:49:04.254011Z",
          "iopub.status.busy": "2022-04-17T03:49:04.253179Z",
          "iopub.status.idle": "2022-04-17T03:49:09.244794Z",
          "shell.execute_reply": "2022-04-17T03:49:09.243924Z"
        },
        "papermill": {
          "duration": 5.111467,
          "end_time": "2022-04-17T03:49:09.246967",
          "exception": false,
          "start_time": "2022-04-17T03:49:04.135500",
          "status": "completed"
        },
        "tags": [],
        "id": "3117df84"
      },
      "outputs": [],
      "source": [
        "# 16. plot training and validation losses in the same plot\n"
      ]
    },
    {
      "cell_type": "code",
      "execution_count": 16,
      "id": "0b2ba54c",
      "metadata": {
        "execution": {
          "iopub.execute_input": "2022-04-17T03:49:09.486049Z",
          "iopub.status.busy": "2022-04-17T03:49:09.485780Z",
          "iopub.status.idle": "2022-04-17T03:49:09.665899Z",
          "shell.execute_reply": "2022-04-17T03:49:09.665177Z"
        },
        "papermill": {
          "duration": 0.303179,
          "end_time": "2022-04-17T03:49:09.668130",
          "exception": false,
          "start_time": "2022-04-17T03:49:09.364951",
          "status": "completed"
        },
        "tags": [],
        "id": "0b2ba54c"
      },
      "outputs": [],
      "source": [
        "# 17. plot metrics performance on both training and validation in the same plot\n"
      ]
    },
    {
      "cell_type": "code",
      "execution_count": 17,
      "id": "027ee9bf",
      "metadata": {
        "execution": {
          "iopub.execute_input": "2022-04-17T03:49:09.909383Z",
          "iopub.status.busy": "2022-04-17T03:49:09.908656Z",
          "iopub.status.idle": "2022-04-17T03:49:10.065317Z",
          "shell.execute_reply": "2022-04-17T03:49:10.064510Z"
        },
        "papermill": {
          "duration": 0.2807,
          "end_time": "2022-04-17T03:49:10.067678",
          "exception": false,
          "start_time": "2022-04-17T03:49:09.786978",
          "status": "completed"
        },
        "tags": [],
        "id": "027ee9bf"
      },
      "outputs": [],
      "source": [
        "# 18. Predicting the test set results\n"
      ]
    },
    {
      "cell_type": "code",
      "execution_count": 18,
      "id": "6e404755",
      "metadata": {
        "execution": {
          "iopub.execute_input": "2022-04-17T03:49:10.308852Z",
          "iopub.status.busy": "2022-04-17T03:49:10.308584Z",
          "iopub.status.idle": "2022-04-17T03:49:10.537056Z",
          "shell.execute_reply": "2022-04-17T03:49:10.536130Z"
        },
        "papermill": {
          "duration": 0.351434,
          "end_time": "2022-04-17T03:49:10.539426",
          "exception": false,
          "start_time": "2022-04-17T03:49:10.187992",
          "status": "completed"
        },
        "tags": [],
        "id": "6e404755"
      },
      "outputs": [],
      "source": [
        "# 19. evaluate results (Hint: Use metrices based on problem type)\n"
      ]
    }
  ],
  "metadata": {
    "kernelspec": {
      "display_name": "Python 3",
      "language": "python",
      "name": "python3"
    },
    "language_info": {
      "codemirror_mode": {
        "name": "ipython",
        "version": 3
      },
      "file_extension": ".py",
      "mimetype": "text/x-python",
      "name": "python",
      "nbconvert_exporter": "python",
      "pygments_lexer": "ipython3",
      "version": "3.7.12"
    },
    "papermill": {
      "default_parameters": {},
      "duration": 43.715898,
      "end_time": "2022-04-17T03:49:14.471062",
      "environment_variables": {},
      "exception": null,
      "input_path": "__notebook__.ipynb",
      "output_path": "__notebook__.ipynb",
      "parameters": {},
      "start_time": "2022-04-17T03:48:30.755164",
      "version": "2.3.4"
    },
    "colab": {
      "provenance": []
    }
  },
  "nbformat": 4,
  "nbformat_minor": 5
}